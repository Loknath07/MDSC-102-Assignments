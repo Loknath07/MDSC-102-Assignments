{
 "cells": [
  {
   "cell_type": "code",
   "execution_count": 3,
   "id": "1d4c8220",
   "metadata": {},
   "outputs": [],
   "source": [
    "import numpy as np"
   ]
  },
  {
   "cell_type": "code",
   "execution_count": 4,
   "id": "ee711824",
   "metadata": {},
   "outputs": [
    {
     "data": {
      "text/plain": [
       "array([100, 101, 102, 103])"
      ]
     },
     "execution_count": 4,
     "metadata": {},
     "output_type": "execute_result"
    }
   ],
   "source": [
    "a= np.array([100,101,102,103])\n",
    "a"
   ]
  },
  {
   "cell_type": "code",
   "execution_count": 10,
   "id": "de1b5564",
   "metadata": {},
   "outputs": [
    {
     "data": {
      "text/plain": [
       "2"
      ]
     },
     "execution_count": 10,
     "metadata": {},
     "output_type": "execute_result"
    }
   ],
   "source": [
    "b= np.array([[0,1],[3,9]])\n",
    "b.shape\n",
    "b.ndim"
   ]
  },
  {
   "cell_type": "code",
   "execution_count": 11,
   "id": "b305828d",
   "metadata": {},
   "outputs": [
    {
     "data": {
      "text/plain": [
       "1"
      ]
     },
     "execution_count": 11,
     "metadata": {},
     "output_type": "execute_result"
    }
   ],
   "source": [
    "b[0,1]"
   ]
  },
  {
   "cell_type": "code",
   "execution_count": 1,
   "id": "1b87b7e3",
   "metadata": {},
   "outputs": [
    {
     "ename": "NameError",
     "evalue": "name 'np' is not defined",
     "output_type": "error",
     "traceback": [
      "\u001b[1;31m---------------------------------------------------------------------------\u001b[0m",
      "\u001b[1;31mNameError\u001b[0m                                 Traceback (most recent call last)",
      "Cell \u001b[1;32mIn[1], line 1\u001b[0m\n\u001b[1;32m----> 1\u001b[0m b \u001b[38;5;241m=\u001b[39m \u001b[43mnp\u001b[49m\u001b[38;5;241m.\u001b[39marray([[[\u001b[38;5;241m1\u001b[39m,\u001b[38;5;241m2\u001b[39m,\u001b[38;5;241m3\u001b[39m,\u001b[38;5;241m4\u001b[39m],[\u001b[38;5;241m3\u001b[39m,\u001b[38;5;241m4\u001b[39m,\u001b[38;5;241m5\u001b[39m,\u001b[38;5;241m6\u001b[39m],[\u001b[38;5;241m1\u001b[39m,\u001b[38;5;241m0\u001b[39m,\u001b[38;5;241m5\u001b[39m,\u001b[38;5;241m8\u001b[39m]],[[\u001b[38;5;241m1\u001b[39m,\u001b[38;5;241m6\u001b[39m,\u001b[38;5;241m0\u001b[39m,\u001b[38;5;241m3\u001b[39m,],[\u001b[38;5;241m5\u001b[39m,\u001b[38;5;241m2\u001b[39m,\u001b[38;5;241m9\u001b[39m,\u001b[38;5;241m4\u001b[39m],[\u001b[38;5;241m9\u001b[39m,\u001b[38;5;241m5\u001b[39m,\u001b[38;5;241m7\u001b[39m,\u001b[38;5;241m3\u001b[39m]]])\n\u001b[0;32m      2\u001b[0m b\u001b[38;5;241m.\u001b[39mndim\n",
      "\u001b[1;31mNameError\u001b[0m: name 'np' is not defined"
     ]
    }
   ],
   "source": [
    "b = np.array([[[1,2,3,4],[3,4,5,6],[1,0,5,8]],[[1,6,0,3,],[5,2,9,4],[9,5,7,3]]])\n",
    "b.ndim"
   ]
  },
  {
   "cell_type": "code",
   "execution_count": 2,
   "id": "13464a9c",
   "metadata": {},
   "outputs": [],
   "source": [
    "import numpy as np"
   ]
  },
  {
   "cell_type": "code",
   "execution_count": 3,
   "id": "bd808081",
   "metadata": {},
   "outputs": [
    {
     "data": {
      "text/plain": [
       "3"
      ]
     },
     "execution_count": 3,
     "metadata": {},
     "output_type": "execute_result"
    }
   ],
   "source": [
    "b = np.array([[[1,2,3,4],[3,4,5,6],[1,0,5,8]],[[1,6,0,3,],[5,2,9,4],[9,5,7,3]]])\n",
    "b.ndim"
   ]
  },
  {
   "cell_type": "code",
   "execution_count": 4,
   "id": "e805822c",
   "metadata": {},
   "outputs": [
    {
     "data": {
      "text/plain": [
       "3"
      ]
     },
     "execution_count": 4,
     "metadata": {},
     "output_type": "execute_result"
    }
   ],
   "source": [
    "b[0,1,0]"
   ]
  },
  {
   "cell_type": "code",
   "execution_count": 5,
   "id": "e49171d0",
   "metadata": {},
   "outputs": [
    {
     "data": {
      "text/plain": [
       "1"
      ]
     },
     "execution_count": 5,
     "metadata": {},
     "output_type": "execute_result"
    }
   ],
   "source": [
    "b[1,0,0]"
   ]
  },
  {
   "cell_type": "code",
   "execution_count": 6,
   "id": "4dbc0132",
   "metadata": {},
   "outputs": [
    {
     "ename": "IndexError",
     "evalue": "index 2 is out of bounds for axis 0 with size 2",
     "output_type": "error",
     "traceback": [
      "\u001b[1;31m---------------------------------------------------------------------------\u001b[0m",
      "\u001b[1;31mIndexError\u001b[0m                                Traceback (most recent call last)",
      "Cell \u001b[1;32mIn[6], line 1\u001b[0m\n\u001b[1;32m----> 1\u001b[0m \u001b[43mb\u001b[49m\u001b[43m[\u001b[49m\u001b[38;5;241;43m2\u001b[39;49m\u001b[43m,\u001b[49m\u001b[38;5;241;43m0\u001b[39;49m\u001b[43m,\u001b[49m\u001b[38;5;241;43m0\u001b[39;49m\u001b[43m]\u001b[49m\n",
      "\u001b[1;31mIndexError\u001b[0m: index 2 is out of bounds for axis 0 with size 2"
     ]
    }
   ],
   "source": [
    "b[2,0,0]"
   ]
  },
  {
   "cell_type": "code",
   "execution_count": 1,
   "id": "1fb0e49c",
   "metadata": {},
   "outputs": [],
   "source": [
    "import numpy as np\n"
   ]
  },
  {
   "cell_type": "code",
   "execution_count": 10,
   "id": "aded3bc8",
   "metadata": {},
   "outputs": [
    {
     "name": "stdout",
     "output_type": "stream",
     "text": [
      "[[1 2]\n",
      " [3 3]\n",
      " [4 5]]\n"
     ]
    }
   ],
   "source": [
    "a= np.array([[1,2],[3,3],[4,5]])\n",
    "a.shape\n",
    "print(a)\n",
    "\n"
   ]
  },
  {
   "cell_type": "code",
   "execution_count": 15,
   "id": "44e00348",
   "metadata": {},
   "outputs": [
    {
     "name": "stdout",
     "output_type": "stream",
     "text": [
      "[0, 1]\n"
     ]
    }
   ],
   "source": [
    "b = [0,1]\n",
    "\n",
    "print(b)"
   ]
  },
  {
   "cell_type": "code",
   "execution_count": 16,
   "id": "8f279517",
   "metadata": {},
   "outputs": [
    {
     "name": "stdout",
     "output_type": "stream",
     "text": [
      "[[[1 2 3 4]\n",
      "  [3 4 5 6]\n",
      "  [1 0 5 8]]\n",
      "\n",
      " [[1 6 0 3]\n",
      "  [5 2 9 4]\n",
      "  [9 5 7 3]]]\n"
     ]
    }
   ],
   "source": [
    "b = np.array([[[1,2,3,4],[3,4,5,6],[1,0,5,8]],[[1,6,0,3,],[5,2,9,4],[9,5,7,3]]])\n",
    "print(b)"
   ]
  },
  {
   "cell_type": "code",
   "execution_count": 17,
   "id": "46cbe824",
   "metadata": {},
   "outputs": [
    {
     "data": {
      "text/plain": [
       "1"
      ]
     },
     "execution_count": 17,
     "metadata": {},
     "output_type": "execute_result"
    }
   ],
   "source": [
    "b[1,0,0]"
   ]
  },
  {
   "cell_type": "code",
   "execution_count": 18,
   "id": "25695f6e",
   "metadata": {},
   "outputs": [
    {
     "data": {
      "text/plain": [
       "array([[[ 1,  2,  3,  4],\n",
       "        [ 3,  4,  5,  6],\n",
       "        [ 1,  0,  5,  8]],\n",
       "\n",
       "       [[ 1,  6,  0,  3],\n",
       "        [10, 10, 10, 10],\n",
       "        [ 9,  5,  7,  3]]])"
      ]
     },
     "execution_count": 18,
     "metadata": {},
     "output_type": "execute_result"
    }
   ],
   "source": [
    "b[1,1] = 10 \n",
    "b"
   ]
  },
  {
   "cell_type": "code",
   "execution_count": 19,
   "id": "d1789110",
   "metadata": {},
   "outputs": [
    {
     "data": {
      "text/plain": [
       "array([[[ 1,  2,  3,  4],\n",
       "        [ 3,  4,  5,  6],\n",
       "        [ 1,  0,  5,  8]],\n",
       "\n",
       "       [[ 1,  6,  0,  3],\n",
       "        [10, 10, 10, 10],\n",
       "        [ 9,  5,  7,  3]]])"
      ]
     },
     "execution_count": 19,
     "metadata": {},
     "output_type": "execute_result"
    }
   ],
   "source": [
    "b"
   ]
  },
  {
   "cell_type": "code",
   "execution_count": 24,
   "id": "8686c6be",
   "metadata": {},
   "outputs": [
    {
     "name": "stdout",
     "output_type": "stream",
     "text": [
      "[[[1 2]\n",
      "  [1 3]]\n",
      "\n",
      " [[5 6]\n",
      "  [9 8]]\n",
      "\n",
      " [[5 6]\n",
      "  [9 8]]]\n"
     ]
    },
    {
     "data": {
      "text/plain": [
       "3"
      ]
     },
     "execution_count": 24,
     "metadata": {},
     "output_type": "execute_result"
    }
   ],
   "source": [
    "b = np.array([[[1,2],[1,3]],[[5,6],[9,8]],[[5,6],[9,8]]])\n",
    "print(b)\n",
    "b.ndim"
   ]
  },
  {
   "cell_type": "code",
   "execution_count": 28,
   "id": "3f6994e0",
   "metadata": {},
   "outputs": [
    {
     "data": {
      "text/plain": [
       "array([[[10, 10],\n",
       "        [10, 10]],\n",
       "\n",
       "       [[ 5,  6],\n",
       "        [ 9,  8]],\n",
       "\n",
       "       [[ 5,  6],\n",
       "        [ 9,  8]]])"
      ]
     },
     "execution_count": 28,
     "metadata": {},
     "output_type": "execute_result"
    }
   ],
   "source": [
    "b[0,0]=10\n",
    "b"
   ]
  },
  {
   "cell_type": "code",
   "execution_count": 35,
   "id": "74cd2ebb",
   "metadata": {},
   "outputs": [
    {
     "data": {
      "text/plain": [
       "array([ 0.,  4., -4.])"
      ]
     },
     "execution_count": 35,
     "metadata": {},
     "output_type": "execute_result"
    }
   ],
   "source": [
    "np.array([0,4,-4], dtype=float)"
   ]
  },
  {
   "cell_type": "code",
   "execution_count": 31,
   "id": "2056d967",
   "metadata": {},
   "outputs": [
    {
     "data": {
      "text/plain": [
       "array([[6.23042070e-307, 4.67296746e-307, 1.69121096e-306],\n",
       "       [2.11396107e-307, 6.23037317e-307, 2.22526399e-307]])"
      ]
     },
     "execution_count": 31,
     "metadata": {},
     "output_type": "execute_result"
    }
   ],
   "source": [
    "np.empty((2,3))"
   ]
  },
  {
   "cell_type": "code",
   "execution_count": 33,
   "id": "cb2fe11c",
   "metadata": {},
   "outputs": [
    {
     "name": "stdout",
     "output_type": "stream",
     "text": [
      "[[6.23042070e-307 4.67296746e-307 1.69121096e-306]\n",
      " [2.11396107e-307 6.23037317e-307 2.22526399e-307]]\n"
     ]
    }
   ],
   "source": [
    "a = np.empty((2,3))\n",
    "print(a)"
   ]
  },
  {
   "cell_type": "code",
   "execution_count": 80,
   "id": "c4928a29",
   "metadata": {},
   "outputs": [
    {
     "name": "stdout",
     "output_type": "stream",
     "text": [
      "[[ 2.  4.  4.]\n",
      " [ 8.  6. 12.]]\n"
     ]
    }
   ],
   "source": [
    "z = np.empty((2,3))\n",
    "np.set_printoptions(suppress = True)\n",
    "print(z)"
   ]
  },
  {
   "cell_type": "code",
   "execution_count": 40,
   "id": "5b921d34",
   "metadata": {},
   "outputs": [
    {
     "data": {
      "text/plain": [
       "array([[[0., 0., 0.],\n",
       "        [0., 0., 0.]],\n",
       "\n",
       "       [[0., 0., 0.],\n",
       "        [0., 0., 0.]],\n",
       "\n",
       "       [[0., 0., 0.],\n",
       "        [0., 0., 0.]],\n",
       "\n",
       "       [[0., 0., 0.],\n",
       "        [0., 0., 0.]]])"
      ]
     },
     "execution_count": 40,
     "metadata": {},
     "output_type": "execute_result"
    }
   ],
   "source": [
    "x = np.zeros((4,2,3))\n",
    "x"
   ]
  },
  {
   "cell_type": "code",
   "execution_count": 43,
   "id": "7691f4fa",
   "metadata": {},
   "outputs": [
    {
     "data": {
      "text/plain": [
       "array([[1., 1., 1.],\n",
       "       [1., 1., 1.]])"
      ]
     },
     "execution_count": 43,
     "metadata": {},
     "output_type": "execute_result"
    }
   ],
   "source": [
    "np.ones_like(a)"
   ]
  },
  {
   "cell_type": "code",
   "execution_count": 45,
   "id": "31e0da12",
   "metadata": {},
   "outputs": [],
   "source": [
    "np.arange?"
   ]
  },
  {
   "cell_type": "code",
   "execution_count": 46,
   "id": "a02b9f9e",
   "metadata": {},
   "outputs": [
    {
     "data": {
      "text/plain": [
       "[0, 1, 2, 3, 4, 5, 6]"
      ]
     },
     "execution_count": 46,
     "metadata": {},
     "output_type": "execute_result"
    }
   ],
   "source": [
    "list(range(7))"
   ]
  },
  {
   "cell_type": "code",
   "execution_count": 47,
   "id": "5ec3120b",
   "metadata": {},
   "outputs": [
    {
     "data": {
      "text/plain": [
       "[3, 4, 5, 6]"
      ]
     },
     "execution_count": 47,
     "metadata": {},
     "output_type": "execute_result"
    }
   ],
   "source": [
    "list(range(3,7))"
   ]
  },
  {
   "cell_type": "code",
   "execution_count": 49,
   "id": "2273b5ed",
   "metadata": {},
   "outputs": [
    {
     "data": {
      "text/plain": [
       "array([7.7, 8. , 8.3, 8.6, 8.9, 9.2, 9.5, 9.8])"
      ]
     },
     "execution_count": 49,
     "metadata": {},
     "output_type": "execute_result"
    }
   ],
   "source": [
    "np.arange(7.7,10,0.3)"
   ]
  },
  {
   "cell_type": "code",
   "execution_count": 51,
   "id": "7da9f4f8",
   "metadata": {},
   "outputs": [],
   "source": [
    "np.linspace?"
   ]
  },
  {
   "cell_type": "code",
   "execution_count": 52,
   "id": "ca253686",
   "metadata": {},
   "outputs": [
    {
     "data": {
      "text/plain": [
       "array([10., 15., 20., 25., 30.])"
      ]
     },
     "execution_count": 52,
     "metadata": {},
     "output_type": "execute_result"
    }
   ],
   "source": [
    "np.linspace(10,30,5)"
   ]
  },
  {
   "cell_type": "code",
   "execution_count": 57,
   "id": "dcbf6105",
   "metadata": {},
   "outputs": [
    {
     "data": {
      "text/plain": [
       "array([[ 1.        ,  1.47368421,  1.94736842,  2.42105263],\n",
       "       [ 2.89473684,  3.36842105,  3.84210526,  4.31578947],\n",
       "       [ 4.78947368,  5.26315789,  5.73684211,  6.21052632],\n",
       "       [ 6.68421053,  7.15789474,  7.63157895,  8.10526316],\n",
       "       [ 8.57894737,  9.05263158,  9.52631579, 10.        ]])"
      ]
     },
     "execution_count": 57,
     "metadata": {},
     "output_type": "execute_result"
    }
   ],
   "source": [
    "np.linspace(1,10,20).reshape(5,4)"
   ]
  },
  {
   "cell_type": "code",
   "execution_count": 58,
   "id": "ace3e1b1",
   "metadata": {},
   "outputs": [
    {
     "data": {
      "text/plain": [
       "array([10.        , 11.11111111, 12.22222222, 13.33333333, 14.44444444,\n",
       "       15.55555556, 16.66666667, 17.77777778, 18.88888889, 20.        ])"
      ]
     },
     "execution_count": 58,
     "metadata": {},
     "output_type": "execute_result"
    }
   ],
   "source": [
    "np.linspace(10,20,10)"
   ]
  },
  {
   "cell_type": "code",
   "execution_count": 61,
   "id": "57012293",
   "metadata": {},
   "outputs": [
    {
     "data": {
      "text/plain": [
       "(array([10.        , 11.11111111, 12.22222222, 13.33333333, 14.44444444,\n",
       "        15.55555556, 16.66666667, 17.77777778, 18.88888889, 20.        ]),\n",
       " 1.1111111111111112)"
      ]
     },
     "execution_count": 61,
     "metadata": {},
     "output_type": "execute_result"
    }
   ],
   "source": [
    "np.linspace(10,20,10, retstep=True)"
   ]
  },
  {
   "cell_type": "code",
   "execution_count": 62,
   "id": "11814758",
   "metadata": {},
   "outputs": [
    {
     "data": {
      "text/plain": [
       "array([10., 11., 12., 13., 14., 15., 16., 17., 18., 19.])"
      ]
     },
     "execution_count": 62,
     "metadata": {},
     "output_type": "execute_result"
    }
   ],
   "source": [
    "np.linspace(10,20,10, endpoint=False)"
   ]
  },
  {
   "cell_type": "code",
   "execution_count": 4,
   "id": "07cea62c",
   "metadata": {},
   "outputs": [],
   "source": [
    "def f(i,j):\n",
    "    return 2*i*j\n",
    "np.fromfunction(f,(4,3))"
   ]
  },
  {
   "cell_type": "code",
   "execution_count": 5,
   "id": "70443896",
   "metadata": {},
   "outputs": [],
   "source": [
    "import numpy as np"
   ]
  },
  {
   "cell_type": "code",
   "execution_count": 6,
   "id": "aabb04e9",
   "metadata": {},
   "outputs": [
    {
     "data": {
      "text/plain": [
       "array([[ 0.,  0.,  0.],\n",
       "       [ 0.,  2.,  4.],\n",
       "       [ 0.,  4.,  8.],\n",
       "       [ 0.,  6., 12.]])"
      ]
     },
     "execution_count": 6,
     "metadata": {},
     "output_type": "execute_result"
    }
   ],
   "source": [
    "def f(i,j):\n",
    "    return 2*i*j\n",
    "np.fromfunction(f,(4,3))"
   ]
  },
  {
   "cell_type": "code",
   "execution_count": 7,
   "id": "c14f384f",
   "metadata": {
    "scrolled": true
   },
   "outputs": [
    {
     "data": {
      "text/plain": [
       "array([[ 0.,  0.,  0.],\n",
       "       [ 0.,  5., 10.],\n",
       "       [ 0., 10., 20.]])"
      ]
     },
     "execution_count": 7,
     "metadata": {},
     "output_type": "execute_result"
    }
   ],
   "source": [
    "def f(i,j):\n",
    "    return 5*i*j\n",
    "np.fromfunction(f,(3,3))\n"
   ]
  },
  {
   "cell_type": "code",
   "execution_count": null,
   "id": "28b97187",
   "metadata": {},
   "outputs": [],
   "source": [
    "# by using def f() we can create a new function"
   ]
  },
  {
   "cell_type": "code",
   "execution_count": 8,
   "id": "68112245",
   "metadata": {},
   "outputs": [
    {
     "data": {
      "text/plain": [
       "array([[ 0.,  0.,  0.,  0.],\n",
       "       [ 0., 10., 20., 30.],\n",
       "       [ 0., 20., 40., 60.],\n",
       "       [ 0., 30., 60., 90.]])"
      ]
     },
     "execution_count": 8,
     "metadata": {},
     "output_type": "execute_result"
    }
   ],
   "source": [
    "np.fromfunction(lambda i,j: 10*i*j,(4,4))  "
   ]
  },
  {
   "cell_type": "code",
   "execution_count": null,
   "id": "e251fd85",
   "metadata": {},
   "outputs": [],
   "source": [
    "# by using lamda we can create a function "
   ]
  },
  {
   "cell_type": "code",
   "execution_count": 13,
   "id": "06659b5a",
   "metadata": {},
   "outputs": [
    {
     "data": {
      "text/plain": [
       "array([1, 0, 0, 0, 0, 1, 0, 0, 0, 0, 1, 0, 0, 0, 0, 1, 0, 0, 0, 0])"
      ]
     },
     "execution_count": 13,
     "metadata": {},
     "output_type": "execute_result"
    }
   ],
   "source": [
    "N,n = 20,5\n",
    "def f(i):\n",
    "    return(i% n == 0)*1\n",
    "comb = np.fromfunction(f,(N,), dtype=int)\n",
    "comb"
   ]
  },
  {
   "cell_type": "code",
   "execution_count": 14,
   "id": "15ca387d",
   "metadata": {},
   "outputs": [
    {
     "data": {
      "text/plain": [
       "(2, 3)"
      ]
     },
     "execution_count": 14,
     "metadata": {},
     "output_type": "execute_result"
    }
   ],
   "source": [
    "a = np.array(((1,0,2),(1,0,2)))\n",
    "a.shape"
   ]
  },
  {
   "cell_type": "code",
   "execution_count": null,
   "id": "ce0637e7",
   "metadata": {},
   "outputs": [],
   "source": [
    "# 2rows and 3 columns "
   ]
  },
  {
   "cell_type": "code",
   "execution_count": 15,
   "id": "7d5d4914",
   "metadata": {},
   "outputs": [
    {
     "data": {
      "text/plain": [
       "2"
      ]
     },
     "execution_count": 15,
     "metadata": {},
     "output_type": "execute_result"
    }
   ],
   "source": [
    "a.ndim "
   ]
  },
  {
   "cell_type": "code",
   "execution_count": 16,
   "id": "3bc9ced7",
   "metadata": {},
   "outputs": [],
   "source": [
    "#  it is saying a have 2 dimensions\n"
   ]
  },
  {
   "cell_type": "code",
   "execution_count": 17,
   "id": "33d7e1af",
   "metadata": {},
   "outputs": [],
   "source": [
    "#  if we get (2,3,4) 2 is a depth , length , width"
   ]
  },
  {
   "cell_type": "code",
   "execution_count": 18,
   "id": "1f1e9b50",
   "metadata": {},
   "outputs": [
    {
     "data": {
      "text/plain": [
       "dtype('int32')"
      ]
     },
     "execution_count": 18,
     "metadata": {},
     "output_type": "execute_result"
    }
   ],
   "source": [
    "a.dtype #we get an which data type"
   ]
  },
  {
   "cell_type": "code",
   "execution_count": 19,
   "id": "c29a2769",
   "metadata": {},
   "outputs": [
    {
     "data": {
      "text/plain": [
       "<memory at 0x00000164EB4D2670>"
      ]
     },
     "execution_count": 19,
     "metadata": {},
     "output_type": "execute_result"
    }
   ],
   "source": [
    "a.data # we get a memory location"
   ]
  },
  {
   "cell_type": "code",
   "execution_count": 20,
   "id": "765cceea",
   "metadata": {},
   "outputs": [
    {
     "data": {
      "text/plain": [
       "4"
      ]
     },
     "execution_count": 20,
     "metadata": {},
     "output_type": "execute_result"
    }
   ],
   "source": [
    "a.itemsize # we get size in bytes"
   ]
  },
  {
   "cell_type": "code",
   "execution_count": 22,
   "id": "744b76aa",
   "metadata": {},
   "outputs": [
    {
     "data": {
      "text/plain": [
       "array([   1.,    8.,   27.,   64.,  125.,  216.,  343.,  512.,  729.,\n",
       "       1000.])"
      ]
     },
     "execution_count": 22,
     "metadata": {},
     "output_type": "execute_result"
    }
   ],
   "source": [
    "x = np.linspace(1,10,10)\n",
    "x**3"
   ]
  },
  {
   "cell_type": "code",
   "execution_count": 23,
   "id": "ee389cd8",
   "metadata": {},
   "outputs": [
    {
     "data": {
      "text/plain": [
       "array([  1.,   4.,   9.,  16.,  25.,  36.,  49.,  64.,  81., 100.])"
      ]
     },
     "execution_count": 23,
     "metadata": {},
     "output_type": "execute_result"
    }
   ],
   "source": [
    "x**2"
   ]
  },
  {
   "cell_type": "code",
   "execution_count": 24,
   "id": "49d7d2d5",
   "metadata": {},
   "outputs": [
    {
     "data": {
      "text/plain": [
       "array([ 1.,  2.,  3.,  4.,  5.,  6.,  7.,  8.,  9., 10.])"
      ]
     },
     "execution_count": 24,
     "metadata": {},
     "output_type": "execute_result"
    }
   ],
   "source": [
    "x"
   ]
  },
  {
   "cell_type": "code",
   "execution_count": 25,
   "id": "39e7bd4f",
   "metadata": {},
   "outputs": [
    {
     "data": {
      "text/plain": [
       "array([0., 1., 2., 3., 4., 5., 6., 7., 8., 9.])"
      ]
     },
     "execution_count": 25,
     "metadata": {},
     "output_type": "execute_result"
    }
   ],
   "source": [
    "x-1"
   ]
  },
  {
   "cell_type": "code",
   "execution_count": 27,
   "id": "cc62094c",
   "metadata": {},
   "outputs": [
    {
     "data": {
      "text/plain": [
       "array([0.        , 1.        , 1.41421356, 1.73205081, 2.        ,\n",
       "       2.23606798, 2.44948974, 2.64575131, 2.82842712, 3.        ])"
      ]
     },
     "execution_count": 27,
     "metadata": {},
     "output_type": "execute_result"
    }
   ],
   "source": [
    "np.sqrt(x-1)"
   ]
  },
  {
   "cell_type": "code",
   "execution_count": 28,
   "id": "1080e60a",
   "metadata": {},
   "outputs": [
    {
     "data": {
      "text/plain": [
       "array([ 1.,  2.,  3.,  4.,  5.,  6.,  7.,  8.,  9., 10.])"
      ]
     },
     "execution_count": 28,
     "metadata": {},
     "output_type": "execute_result"
    }
   ],
   "source": [
    "np.sqrt(x**2)"
   ]
  },
  {
   "cell_type": "code",
   "execution_count": 31,
   "id": "55e69841",
   "metadata": {},
   "outputs": [
    {
     "data": {
      "text/plain": [
       "array([ 0.        ,  0.93177163,  0.70524811, -0.33818748, -0.99238341,\n",
       "       -0.5748152 ,  0.43786052,  0.99788475,  0.55950734, -0.425837  ])"
      ]
     },
     "execution_count": 31,
     "metadata": {},
     "output_type": "execute_result"
    }
   ],
   "source": [
    "y = np.exp(-np.linspace(0,2,10))\n",
    "np.sin(x-y)"
   ]
  },
  {
   "cell_type": "code",
   "execution_count": 32,
   "id": "72915a89",
   "metadata": {},
   "outputs": [],
   "source": [
    "a= np.array(((1,2),(3,4)))\n"
   ]
  },
  {
   "cell_type": "code",
   "execution_count": 33,
   "id": "c04c7915",
   "metadata": {},
   "outputs": [],
   "source": [
    "b=a"
   ]
  },
  {
   "cell_type": "code",
   "execution_count": 35,
   "id": "d3d4a88f",
   "metadata": {},
   "outputs": [
    {
     "data": {
      "text/plain": [
       "array([[ 1,  4],\n",
       "       [ 9, 16]])"
      ]
     },
     "execution_count": 35,
     "metadata": {},
     "output_type": "execute_result"
    }
   ],
   "source": [
    "a*b"
   ]
  },
  {
   "cell_type": "code",
   "execution_count": 36,
   "id": "1cdad417",
   "metadata": {},
   "outputs": [
    {
     "data": {
      "text/plain": [
       "array([[ 7, 10],\n",
       "       [15, 22]])"
      ]
     },
     "execution_count": 36,
     "metadata": {},
     "output_type": "execute_result"
    }
   ],
   "source": [
    "a@b"
   ]
  },
  {
   "cell_type": "code",
   "execution_count": 37,
   "id": "e1cba3cf",
   "metadata": {},
   "outputs": [
    {
     "data": {
      "text/plain": [
       "array([[ 7, 10],\n",
       "       [15, 22]])"
      ]
     },
     "execution_count": 37,
     "metadata": {},
     "output_type": "execute_result"
    }
   ],
   "source": [
    "np.matmul(a,b)"
   ]
  },
  {
   "cell_type": "code",
   "execution_count": 38,
   "id": "70277175",
   "metadata": {},
   "outputs": [
    {
     "data": {
      "text/plain": [
       "array([[ 7, 10],\n",
       "       [15, 22]])"
      ]
     },
     "execution_count": 38,
     "metadata": {},
     "output_type": "execute_result"
    }
   ],
   "source": [
    "a.dot(b)"
   ]
  },
  {
   "cell_type": "code",
   "execution_count": 40,
   "id": "4cee1dfe",
   "metadata": {},
   "outputs": [
    {
     "data": {
      "text/plain": [
       "array([[ 7, 10],\n",
       "       [15, 22]])"
      ]
     },
     "execution_count": 40,
     "metadata": {},
     "output_type": "execute_result"
    }
   ],
   "source": [
    "np.dot(a,b)"
   ]
  },
  {
   "cell_type": "code",
   "execution_count": 41,
   "id": "d4912b6e",
   "metadata": {},
   "outputs": [
    {
     "ename": "ZeroDivisionError",
     "evalue": "division by zero",
     "output_type": "error",
     "traceback": [
      "\u001b[1;31m---------------------------------------------------------------------------\u001b[0m",
      "\u001b[1;31mZeroDivisionError\u001b[0m                         Traceback (most recent call last)",
      "Cell \u001b[1;32mIn[41], line 1\u001b[0m\n\u001b[1;32m----> 1\u001b[0m \u001b[38;5;241;43m0\u001b[39;49m\u001b[38;5;241;43m/\u001b[39;49m\u001b[38;5;241;43m0\u001b[39;49m\n",
      "\u001b[1;31mZeroDivisionError\u001b[0m: division by zero"
     ]
    }
   ],
   "source": [
    "0/0"
   ]
  },
  {
   "cell_type": "code",
   "execution_count": 42,
   "id": "91148d75",
   "metadata": {},
   "outputs": [
    {
     "data": {
      "text/plain": [
       "inf"
      ]
     },
     "execution_count": 42,
     "metadata": {},
     "output_type": "execute_result"
    }
   ],
   "source": [
    "np.inf"
   ]
  },
  {
   "cell_type": "code",
   "execution_count": 43,
   "id": "14b5c3df",
   "metadata": {},
   "outputs": [],
   "source": [
    "#  creating a magic square\n",
    "#  its a square matrix of order n \n",
    "# n(n^2 +1)/2\n"
   ]
  },
  {
   "cell_type": "code",
   "execution_count": 46,
   "id": "5129729e",
   "metadata": {},
   "outputs": [
    {
     "data": {
      "text/plain": [
       "array([[17, 24,  1,  8, 15],\n",
       "       [23,  5,  7, 14, 16],\n",
       "       [ 4,  6, 13, 20, 22],\n",
       "       [10, 12, 19, 21,  3],\n",
       "       [11, 18, 25,  2,  9]])"
      ]
     },
     "execution_count": 46,
     "metadata": {},
     "output_type": "execute_result"
    }
   ],
   "source": [
    "N=5\n",
    "msquare = np.zeros((N,N), dtype = int)\n",
    "\n",
    "n=1 \n",
    "i,j = 0, N//2\n",
    "\n",
    "while n <= N**2:\n",
    "    msquare[i,j] = n\n",
    "    n += 1\n",
    "    newi,newj = (i-1)%N, (j+1)%N\n",
    "    if msquare[newi,newj]:\n",
    "        i += 1\n",
    "    else:\n",
    "        i,j = newi,newj\n",
    "msquare\n",
    "        "
   ]
  },
  {
   "cell_type": "code",
   "execution_count": 47,
   "id": "d7fc8a26",
   "metadata": {},
   "outputs": [],
   "source": [
    "# sum of any row, any column , or diagonal elements we get 65\n"
   ]
  },
  {
   "cell_type": "code",
   "execution_count": 48,
   "id": "6e0f918b",
   "metadata": {},
   "outputs": [],
   "source": [
    "b = msquare.flatten()"
   ]
  },
  {
   "cell_type": "code",
   "execution_count": 49,
   "id": "f63fb89b",
   "metadata": {},
   "outputs": [
    {
     "data": {
      "text/plain": [
       "array([17, 24,  1,  8, 15, 23,  5,  7, 14, 16,  4,  6, 13, 20, 22, 10, 12,\n",
       "       19, 21,  3, 11, 18, 25,  2,  9])"
      ]
     },
     "execution_count": 49,
     "metadata": {},
     "output_type": "execute_result"
    }
   ],
   "source": [
    "b\n"
   ]
  },
  {
   "cell_type": "code",
   "execution_count": 50,
   "id": "5f7bce53",
   "metadata": {},
   "outputs": [],
   "source": [
    "b[5] = 7\n"
   ]
  },
  {
   "cell_type": "code",
   "execution_count": 51,
   "id": "e633fbb9",
   "metadata": {},
   "outputs": [
    {
     "data": {
      "text/plain": [
       "array([17, 24,  1,  8, 15,  7,  5,  7, 14, 16,  4,  6, 13, 20, 22, 10, 12,\n",
       "       19, 21,  3, 11, 18, 25,  2,  9])"
      ]
     },
     "execution_count": 51,
     "metadata": {},
     "output_type": "execute_result"
    }
   ],
   "source": [
    "b"
   ]
  },
  {
   "cell_type": "code",
   "execution_count": 52,
   "id": "ad35cac0",
   "metadata": {},
   "outputs": [],
   "source": [
    "c= msquare.ravel()"
   ]
  },
  {
   "cell_type": "code",
   "execution_count": 53,
   "id": "0a73332b",
   "metadata": {},
   "outputs": [
    {
     "data": {
      "text/plain": [
       "array([17, 24,  1,  8, 15, 23,  5,  7, 14, 16,  4,  6, 13, 20, 22, 10, 12,\n",
       "       19, 21,  3, 11, 18, 25,  2,  9])"
      ]
     },
     "execution_count": 53,
     "metadata": {},
     "output_type": "execute_result"
    }
   ],
   "source": [
    "c"
   ]
  },
  {
   "cell_type": "code",
   "execution_count": 60,
   "id": "7df2dea9",
   "metadata": {},
   "outputs": [],
   "source": [
    "a = np.linspace(1,16,16)"
   ]
  },
  {
   "cell_type": "code",
   "execution_count": 61,
   "id": "bad07bbd",
   "metadata": {},
   "outputs": [
    {
     "data": {
      "text/plain": [
       "array([ 1.,  2.,  3.,  4.,  5.,  6.,  7.,  8.,  9., 10., 11., 12., 13.,\n",
       "       14., 15., 16.])"
      ]
     },
     "execution_count": 61,
     "metadata": {},
     "output_type": "execute_result"
    }
   ],
   "source": [
    "a\n"
   ]
  },
  {
   "cell_type": "code",
   "execution_count": 62,
   "id": "9c53ce0b",
   "metadata": {},
   "outputs": [
    {
     "data": {
      "text/plain": [
       "array([[[ 1.,  2.,  3.,  4.],\n",
       "        [ 5.,  6.,  7.,  8.]],\n",
       "\n",
       "       [[ 9., 10., 11., 12.],\n",
       "        [13., 14., 15., 16.]]])"
      ]
     },
     "execution_count": 62,
     "metadata": {},
     "output_type": "execute_result"
    }
   ],
   "source": [
    "a.resize(2,2,4)\n",
    "a"
   ]
  },
  {
   "cell_type": "code",
   "execution_count": 63,
   "id": "5074b231",
   "metadata": {},
   "outputs": [
    {
     "data": {
      "text/plain": [
       "(2, 2, 4)"
      ]
     },
     "execution_count": 63,
     "metadata": {},
     "output_type": "execute_result"
    }
   ],
   "source": [
    "a.shape"
   ]
  },
  {
   "cell_type": "code",
   "execution_count": 64,
   "id": "ed21e907",
   "metadata": {},
   "outputs": [
    {
     "data": {
      "text/plain": [
       "array([[[ 1.,  2.],\n",
       "        [ 3.,  4.],\n",
       "        [ 5.,  6.],\n",
       "        [ 7.,  8.]],\n",
       "\n",
       "       [[ 9., 10.],\n",
       "        [11., 12.],\n",
       "        [13., 14.],\n",
       "        [15., 16.]]])"
      ]
     },
     "execution_count": 64,
     "metadata": {},
     "output_type": "execute_result"
    }
   ],
   "source": [
    "a.reshape(2,4,2)"
   ]
  },
  {
   "cell_type": "code",
   "execution_count": 66,
   "id": "dd624403",
   "metadata": {},
   "outputs": [
    {
     "ename": "IndexError",
     "evalue": "too many indices for array: array is 1-dimensional, but 3 were indexed",
     "output_type": "error",
     "traceback": [
      "\u001b[1;31m---------------------------------------------------------------------------\u001b[0m",
      "\u001b[1;31mIndexError\u001b[0m                                Traceback (most recent call last)",
      "Cell \u001b[1;32mIn[66], line 1\u001b[0m\n\u001b[1;32m----> 1\u001b[0m \u001b[43mb\u001b[49m\u001b[43m[\u001b[49m\u001b[38;5;241;43m0\u001b[39;49m\u001b[43m,\u001b[49m\u001b[38;5;241;43m3\u001b[39;49m\u001b[43m,\u001b[49m\u001b[38;5;241;43m1\u001b[39;49m\u001b[43m]\u001b[49m \u001b[38;5;241m=\u001b[39m \u001b[38;5;241m7\u001b[39m\n\u001b[0;32m      2\u001b[0m b\n",
      "\u001b[1;31mIndexError\u001b[0m: too many indices for array: array is 1-dimensional, but 3 were indexed"
     ]
    }
   ],
   "source": [
    "b[0,3,1] = 7\n",
    "b"
   ]
  },
  {
   "cell_type": "code",
   "execution_count": 81,
   "id": "78351752",
   "metadata": {},
   "outputs": [],
   "source": [
    "# np.set_printoption(suppress=True)\n",
    "x = np.arange(-15,15,0.1)\n"
   ]
  },
  {
   "cell_type": "code",
   "execution_count": 82,
   "id": "24d8e670",
   "metadata": {},
   "outputs": [],
   "source": [
    "np.arange?"
   ]
  },
  {
   "cell_type": "code",
   "execution_count": 77,
   "id": "0972324a",
   "metadata": {},
   "outputs": [
    {
     "data": {
      "text/plain": [
       "(300,)"
      ]
     },
     "execution_count": 77,
     "metadata": {},
     "output_type": "execute_result"
    }
   ],
   "source": [
    "x.shape"
   ]
  },
  {
   "cell_type": "code",
   "execution_count": 78,
   "id": "e2cdeb45",
   "metadata": {},
   "outputs": [
    {
     "data": {
      "text/plain": [
       "array([-1.50000000e+01, -1.49000000e+01, -1.48000000e+01, -1.47000000e+01,\n",
       "       -1.46000000e+01, -1.45000000e+01, -1.44000000e+01, -1.43000000e+01,\n",
       "       -1.42000000e+01, -1.41000000e+01, -1.40000000e+01, -1.39000000e+01,\n",
       "       -1.38000000e+01, -1.37000000e+01, -1.36000000e+01, -1.35000000e+01,\n",
       "       -1.34000000e+01, -1.33000000e+01, -1.32000000e+01, -1.31000000e+01,\n",
       "       -1.30000000e+01, -1.29000000e+01, -1.28000000e+01, -1.27000000e+01,\n",
       "       -1.26000000e+01, -1.25000000e+01, -1.24000000e+01, -1.23000000e+01,\n",
       "       -1.22000000e+01, -1.21000000e+01, -1.20000000e+01, -1.19000000e+01,\n",
       "       -1.18000000e+01, -1.17000000e+01, -1.16000000e+01, -1.15000000e+01,\n",
       "       -1.14000000e+01, -1.13000000e+01, -1.12000000e+01, -1.11000000e+01,\n",
       "       -1.10000000e+01, -1.09000000e+01, -1.08000000e+01, -1.07000000e+01,\n",
       "       -1.06000000e+01, -1.05000000e+01, -1.04000000e+01, -1.03000000e+01,\n",
       "       -1.02000000e+01, -1.01000000e+01, -1.00000000e+01, -9.90000000e+00,\n",
       "       -9.80000000e+00, -9.70000000e+00, -9.60000000e+00, -9.50000000e+00,\n",
       "       -9.40000000e+00, -9.30000000e+00, -9.20000000e+00, -9.10000000e+00,\n",
       "       -9.00000000e+00, -8.90000000e+00, -8.80000000e+00, -8.70000000e+00,\n",
       "       -8.60000000e+00, -8.50000000e+00, -8.40000000e+00, -8.30000000e+00,\n",
       "       -8.20000000e+00, -8.10000000e+00, -8.00000000e+00, -7.90000000e+00,\n",
       "       -7.80000000e+00, -7.70000000e+00, -7.60000000e+00, -7.50000000e+00,\n",
       "       -7.40000000e+00, -7.30000000e+00, -7.20000000e+00, -7.10000000e+00,\n",
       "       -7.00000000e+00, -6.90000000e+00, -6.80000000e+00, -6.70000000e+00,\n",
       "       -6.60000000e+00, -6.50000000e+00, -6.40000000e+00, -6.30000000e+00,\n",
       "       -6.20000000e+00, -6.10000000e+00, -6.00000000e+00, -5.90000000e+00,\n",
       "       -5.80000000e+00, -5.70000000e+00, -5.60000000e+00, -5.50000000e+00,\n",
       "       -5.40000000e+00, -5.30000000e+00, -5.20000000e+00, -5.10000000e+00,\n",
       "       -5.00000000e+00, -4.90000000e+00, -4.80000000e+00, -4.70000000e+00,\n",
       "       -4.60000000e+00, -4.50000000e+00, -4.40000000e+00, -4.30000000e+00,\n",
       "       -4.20000000e+00, -4.10000000e+00, -4.00000000e+00, -3.90000000e+00,\n",
       "       -3.80000000e+00, -3.70000000e+00, -3.60000000e+00, -3.50000000e+00,\n",
       "       -3.40000000e+00, -3.30000000e+00, -3.20000000e+00, -3.10000000e+00,\n",
       "       -3.00000000e+00, -2.90000000e+00, -2.80000000e+00, -2.70000000e+00,\n",
       "       -2.60000000e+00, -2.50000000e+00, -2.40000000e+00, -2.30000000e+00,\n",
       "       -2.20000000e+00, -2.10000000e+00, -2.00000000e+00, -1.90000000e+00,\n",
       "       -1.80000000e+00, -1.70000000e+00, -1.60000000e+00, -1.50000000e+00,\n",
       "       -1.40000000e+00, -1.30000000e+00, -1.20000000e+00, -1.10000000e+00,\n",
       "       -1.00000000e+00, -9.00000000e-01, -8.00000000e-01, -7.00000000e-01,\n",
       "       -6.00000000e-01, -5.00000000e-01, -4.00000000e-01, -3.00000000e-01,\n",
       "       -2.00000000e-01, -1.00000000e-01, -5.32907052e-14,  1.00000000e-01,\n",
       "        2.00000000e-01,  3.00000000e-01,  4.00000000e-01,  5.00000000e-01,\n",
       "        6.00000000e-01,  7.00000000e-01,  8.00000000e-01,  9.00000000e-01,\n",
       "        1.00000000e+00,  1.10000000e+00,  1.20000000e+00,  1.30000000e+00,\n",
       "        1.40000000e+00,  1.50000000e+00,  1.60000000e+00,  1.70000000e+00,\n",
       "        1.80000000e+00,  1.90000000e+00,  2.00000000e+00,  2.10000000e+00,\n",
       "        2.20000000e+00,  2.30000000e+00,  2.40000000e+00,  2.50000000e+00,\n",
       "        2.60000000e+00,  2.70000000e+00,  2.80000000e+00,  2.90000000e+00,\n",
       "        3.00000000e+00,  3.10000000e+00,  3.20000000e+00,  3.30000000e+00,\n",
       "        3.40000000e+00,  3.50000000e+00,  3.60000000e+00,  3.70000000e+00,\n",
       "        3.80000000e+00,  3.90000000e+00,  4.00000000e+00,  4.10000000e+00,\n",
       "        4.20000000e+00,  4.30000000e+00,  4.40000000e+00,  4.50000000e+00,\n",
       "        4.60000000e+00,  4.70000000e+00,  4.80000000e+00,  4.90000000e+00,\n",
       "        5.00000000e+00,  5.10000000e+00,  5.20000000e+00,  5.30000000e+00,\n",
       "        5.40000000e+00,  5.50000000e+00,  5.60000000e+00,  5.70000000e+00,\n",
       "        5.80000000e+00,  5.90000000e+00,  6.00000000e+00,  6.10000000e+00,\n",
       "        6.20000000e+00,  6.30000000e+00,  6.40000000e+00,  6.50000000e+00,\n",
       "        6.60000000e+00,  6.70000000e+00,  6.80000000e+00,  6.90000000e+00,\n",
       "        7.00000000e+00,  7.10000000e+00,  7.20000000e+00,  7.30000000e+00,\n",
       "        7.40000000e+00,  7.50000000e+00,  7.60000000e+00,  7.70000000e+00,\n",
       "        7.80000000e+00,  7.90000000e+00,  8.00000000e+00,  8.10000000e+00,\n",
       "        8.20000000e+00,  8.30000000e+00,  8.40000000e+00,  8.50000000e+00,\n",
       "        8.60000000e+00,  8.70000000e+00,  8.80000000e+00,  8.90000000e+00,\n",
       "        9.00000000e+00,  9.10000000e+00,  9.20000000e+00,  9.30000000e+00,\n",
       "        9.40000000e+00,  9.50000000e+00,  9.60000000e+00,  9.70000000e+00,\n",
       "        9.80000000e+00,  9.90000000e+00,  1.00000000e+01,  1.01000000e+01,\n",
       "        1.02000000e+01,  1.03000000e+01,  1.04000000e+01,  1.05000000e+01,\n",
       "        1.06000000e+01,  1.07000000e+01,  1.08000000e+01,  1.09000000e+01,\n",
       "        1.10000000e+01,  1.11000000e+01,  1.12000000e+01,  1.13000000e+01,\n",
       "        1.14000000e+01,  1.15000000e+01,  1.16000000e+01,  1.17000000e+01,\n",
       "        1.18000000e+01,  1.19000000e+01,  1.20000000e+01,  1.21000000e+01,\n",
       "        1.22000000e+01,  1.23000000e+01,  1.24000000e+01,  1.25000000e+01,\n",
       "        1.26000000e+01,  1.27000000e+01,  1.28000000e+01,  1.29000000e+01,\n",
       "        1.30000000e+01,  1.31000000e+01,  1.32000000e+01,  1.33000000e+01,\n",
       "        1.34000000e+01,  1.35000000e+01,  1.36000000e+01,  1.37000000e+01,\n",
       "        1.38000000e+01,  1.39000000e+01,  1.40000000e+01,  1.41000000e+01,\n",
       "        1.42000000e+01,  1.43000000e+01,  1.44000000e+01,  1.45000000e+01,\n",
       "        1.46000000e+01,  1.47000000e+01,  1.48000000e+01,  1.49000000e+01])"
      ]
     },
     "execution_count": 78,
     "metadata": {},
     "output_type": "execute_result"
    }
   ],
   "source": [
    "x"
   ]
  },
  {
   "cell_type": "code",
   "execution_count": 83,
   "id": "34071bb7",
   "metadata": {},
   "outputs": [
    {
     "data": {
      "text/plain": [
       "array([-15. , -14.9, -14.8, -14.7, -14.6, -14.5, -14.4, -14.3, -14.2,\n",
       "       -14.1, -14. , -13.9, -13.8, -13.7, -13.6, -13.5, -13.4, -13.3,\n",
       "       -13.2, -13.1, -13. , -12.9, -12.8, -12.7, -12.6, -12.5, -12.4,\n",
       "       -12.3, -12.2, -12.1, -12. , -11.9, -11.8, -11.7, -11.6, -11.5,\n",
       "       -11.4, -11.3, -11.2, -11.1, -11. , -10.9, -10.8, -10.7, -10.6,\n",
       "       -10.5, -10.4, -10.3, -10.2, -10.1, -10. ,  -9.9,  -9.8,  -9.7,\n",
       "        -9.6,  -9.5,  -9.4,  -9.3,  -9.2,  -9.1,  -9. ,  -8.9,  -8.8,\n",
       "        -8.7,  -8.6,  -8.5,  -8.4,  -8.3,  -8.2,  -8.1,  -8. ,  -7.9,\n",
       "        -7.8,  -7.7,  -7.6,  -7.5,  -7.4,  -7.3,  -7.2,  -7.1,  -7. ,\n",
       "        -6.9,  -6.8,  -6.7,  -6.6,  -6.5,  -6.4,  -6.3,  -6.2,  -6.1,\n",
       "        -6. ,  -5.9,  -5.8,  -5.7,  -5.6,  -5.5,  -5.4,  -5.3,  -5.2,\n",
       "        -5.1,  -5. ,  -4.9,  -4.8,  -4.7,  -4.6,  -4.5,  -4.4,  -4.3,\n",
       "        -4.2,  -4.1,  -4. ,  -3.9,  -3.8,  -3.7,  -3.6,  -3.5,  -3.4,\n",
       "        -3.3,  -3.2,  -3.1,  -3. ,  -2.9,  -2.8,  -2.7,  -2.6,  -2.5,\n",
       "        -2.4,  -2.3,  -2.2,  -2.1,  -2. ,  -1.9,  -1.8,  -1.7,  -1.6,\n",
       "        -1.5,  -1.4,  -1.3,  -1.2,  -1.1,  -1. ,  -0.9,  -0.8,  -0.7,\n",
       "        -0.6,  -0.5,  -0.4,  -0.3,  -0.2,  -0.1,  -0. ,   0.1,   0.2,\n",
       "         0.3,   0.4,   0.5,   0.6,   0.7,   0.8,   0.9,   1. ,   1.1,\n",
       "         1.2,   1.3,   1.4,   1.5,   1.6,   1.7,   1.8,   1.9,   2. ,\n",
       "         2.1,   2.2,   2.3,   2.4,   2.5,   2.6,   2.7,   2.8,   2.9,\n",
       "         3. ,   3.1,   3.2,   3.3,   3.4,   3.5,   3.6,   3.7,   3.8,\n",
       "         3.9,   4. ,   4.1,   4.2,   4.3,   4.4,   4.5,   4.6,   4.7,\n",
       "         4.8,   4.9,   5. ,   5.1,   5.2,   5.3,   5.4,   5.5,   5.6,\n",
       "         5.7,   5.8,   5.9,   6. ,   6.1,   6.2,   6.3,   6.4,   6.5,\n",
       "         6.6,   6.7,   6.8,   6.9,   7. ,   7.1,   7.2,   7.3,   7.4,\n",
       "         7.5,   7.6,   7.7,   7.8,   7.9,   8. ,   8.1,   8.2,   8.3,\n",
       "         8.4,   8.5,   8.6,   8.7,   8.8,   8.9,   9. ,   9.1,   9.2,\n",
       "         9.3,   9.4,   9.5,   9.6,   9.7,   9.8,   9.9,  10. ,  10.1,\n",
       "        10.2,  10.3,  10.4,  10.5,  10.6,  10.7,  10.8,  10.9,  11. ,\n",
       "        11.1,  11.2,  11.3,  11.4,  11.5,  11.6,  11.7,  11.8,  11.9,\n",
       "        12. ,  12.1,  12.2,  12.3,  12.4,  12.5,  12.6,  12.7,  12.8,\n",
       "        12.9,  13. ,  13.1,  13.2,  13.3,  13.4,  13.5,  13.6,  13.7,\n",
       "        13.8,  13.9,  14. ,  14.1,  14.2,  14.3,  14.4,  14.5,  14.6,\n",
       "        14.7,  14.8,  14.9])"
      ]
     },
     "execution_count": 83,
     "metadata": {},
     "output_type": "execute_result"
    }
   ],
   "source": [
    "x"
   ]
  },
  {
   "cell_type": "code",
   "execution_count": 84,
   "id": "c2cafcca",
   "metadata": {},
   "outputs": [
    {
     "data": {
      "text/plain": [
       "array([[[ 1.,  2.,  3.,  4.],\n",
       "        [ 5.,  6.,  7.,  8.]],\n",
       "\n",
       "       [[ 9., 10., 11., 12.],\n",
       "        [13., 14., 15., 16.]]])"
      ]
     },
     "execution_count": 84,
     "metadata": {},
     "output_type": "execute_result"
    }
   ],
   "source": [
    "a"
   ]
  },
  {
   "cell_type": "code",
   "execution_count": 89,
   "id": "7ed5768b",
   "metadata": {},
   "outputs": [],
   "source": [
    "a[0,1,3] = 7"
   ]
  },
  {
   "cell_type": "code",
   "execution_count": 90,
   "id": "dc0d9cef",
   "metadata": {},
   "outputs": [
    {
     "data": {
      "text/plain": [
       "array([[[ 1.,  2.,  3.,  4.],\n",
       "        [ 5.,  6.,  7.,  7.]],\n",
       "\n",
       "       [[ 9., 10., 11., 12.],\n",
       "        [13., 14., 15., 16.]]])"
      ]
     },
     "execution_count": 90,
     "metadata": {},
     "output_type": "execute_result"
    }
   ],
   "source": [
    "a\n"
   ]
  },
  {
   "cell_type": "code",
   "execution_count": 93,
   "id": "07c1d643",
   "metadata": {},
   "outputs": [],
   "source": [
    "z = np.arange(1,10,2)"
   ]
  },
  {
   "cell_type": "code",
   "execution_count": 94,
   "id": "e878390c",
   "metadata": {},
   "outputs": [
    {
     "data": {
      "text/plain": [
       "array([1, 3, 5, 7, 9])"
      ]
     },
     "execution_count": 94,
     "metadata": {},
     "output_type": "execute_result"
    }
   ],
   "source": [
    "z"
   ]
  },
  {
   "cell_type": "code",
   "execution_count": 95,
   "id": "92292e09",
   "metadata": {},
   "outputs": [
    {
     "name": "stdout",
     "output_type": "stream",
     "text": [
      "[[[ 1.  2.  3.  4.]\n",
      "  [ 5.  6.  7.  7.]]\n",
      "\n",
      " [[ 9. 10. 11. 12.]\n",
      "  [13. 14. 15. 16.]]]\n"
     ]
    }
   ],
   "source": [
    "print(a)"
   ]
  },
  {
   "cell_type": "code",
   "execution_count": 97,
   "id": "cec5a46e",
   "metadata": {},
   "outputs": [
    {
     "data": {
      "text/plain": [
       "array([[[ 1.,  9.],\n",
       "        [ 5., 13.]],\n",
       "\n",
       "       [[ 2., 10.],\n",
       "        [ 6., 14.]],\n",
       "\n",
       "       [[ 3., 11.],\n",
       "        [ 7., 15.]],\n",
       "\n",
       "       [[ 4., 12.],\n",
       "        [ 7., 16.]]])"
      ]
     },
     "execution_count": 97,
     "metadata": {},
     "output_type": "execute_result"
    }
   ],
   "source": [
    "a.transpose()"
   ]
  },
  {
   "cell_type": "code",
   "execution_count": 98,
   "id": "9f6ee441",
   "metadata": {},
   "outputs": [
    {
     "name": "stdout",
     "output_type": "stream",
     "text": [
      "[[[ 1.  2.  3.  4.]\n",
      "  [ 5.  6.  7.  7.]]\n",
      "\n",
      " [[ 9. 10. 11. 12.]\n",
      "  [13. 14. 15. 16.]]]\n"
     ]
    }
   ],
   "source": [
    "print(a)"
   ]
  },
  {
   "cell_type": "code",
   "execution_count": 99,
   "id": "93512e15",
   "metadata": {},
   "outputs": [
    {
     "data": {
      "text/plain": [
       "(2, 2, 4)"
      ]
     },
     "execution_count": 99,
     "metadata": {},
     "output_type": "execute_result"
    }
   ],
   "source": [
    "a.shape\n"
   ]
  },
  {
   "cell_type": "code",
   "execution_count": 100,
   "id": "f903fe08",
   "metadata": {},
   "outputs": [
    {
     "data": {
      "text/plain": [
       "(4, 2, 2)"
      ]
     },
     "execution_count": 100,
     "metadata": {},
     "output_type": "execute_result"
    }
   ],
   "source": [
    "a.transpose().shape"
   ]
  },
  {
   "cell_type": "code",
   "execution_count": 102,
   "id": "40c9f084",
   "metadata": {},
   "outputs": [
    {
     "data": {
      "text/plain": [
       "array([[[ 1.,  9.],\n",
       "        [ 5., 13.]],\n",
       "\n",
       "       [[ 2., 10.],\n",
       "        [ 6., 14.]],\n",
       "\n",
       "       [[ 3., 11.],\n",
       "        [ 7., 15.]],\n",
       "\n",
       "       [[ 4., 12.],\n",
       "        [ 7., 16.]]])"
      ]
     },
     "execution_count": 102,
     "metadata": {},
     "output_type": "execute_result"
    }
   ],
   "source": [
    "a.T"
   ]
  },
  {
   "cell_type": "code",
   "execution_count": 110,
   "id": "11b3484d",
   "metadata": {},
   "outputs": [],
   "source": [
    "j= np.array((0,0,0,0))\n",
    "k= np.array((1,1,1,1))\n",
    "l= np.array((2,2,2,2))\n",
    "m=np.dstack((j,k,l))\n"
   ]
  },
  {
   "cell_type": "code",
   "execution_count": 111,
   "id": "941ba96a",
   "metadata": {},
   "outputs": [
    {
     "data": {
      "text/plain": [
       "array([[[0, 1, 2],\n",
       "        [0, 1, 2],\n",
       "        [0, 1, 2],\n",
       "        [0, 1, 2]]])"
      ]
     },
     "execution_count": 111,
     "metadata": {},
     "output_type": "execute_result"
    }
   ],
   "source": [
    "m"
   ]
  },
  {
   "cell_type": "code",
   "execution_count": 112,
   "id": "a392987e",
   "metadata": {},
   "outputs": [],
   "source": [
    "n=np.vstack((j,k,l))"
   ]
  },
  {
   "cell_type": "code",
   "execution_count": 113,
   "id": "e9eaa236",
   "metadata": {},
   "outputs": [
    {
     "data": {
      "text/plain": [
       "array([[0, 0, 0, 0],\n",
       "       [1, 1, 1, 1],\n",
       "       [2, 2, 2, 2]])"
      ]
     },
     "execution_count": 113,
     "metadata": {},
     "output_type": "execute_result"
    }
   ],
   "source": [
    "n"
   ]
  },
  {
   "cell_type": "code",
   "execution_count": 114,
   "id": "51b197a3",
   "metadata": {},
   "outputs": [],
   "source": [
    "o=np.hstack((j,k,l))"
   ]
  },
  {
   "cell_type": "code",
   "execution_count": 115,
   "id": "eb5170ea",
   "metadata": {},
   "outputs": [
    {
     "data": {
      "text/plain": [
       "array([0, 0, 0, 0, 1, 1, 1, 1, 2, 2, 2, 2])"
      ]
     },
     "execution_count": 115,
     "metadata": {},
     "output_type": "execute_result"
    }
   ],
   "source": [
    "o"
   ]
  },
  {
   "cell_type": "code",
   "execution_count": 117,
   "id": "14c1b8a2",
   "metadata": {},
   "outputs": [],
   "source": [
    "np.hsplit?"
   ]
  },
  {
   "cell_type": "code",
   "execution_count": 127,
   "id": "eb656602",
   "metadata": {},
   "outputs": [],
   "source": [
    " l=np.arange(16).reshape(4,4)"
   ]
  },
  {
   "cell_type": "code",
   "execution_count": 128,
   "id": "d1aa754c",
   "metadata": {},
   "outputs": [
    {
     "data": {
      "text/plain": [
       "array([[ 0,  1,  2,  3],\n",
       "       [ 4,  5,  6,  7],\n",
       "       [ 8,  9, 10, 11],\n",
       "       [12, 13, 14, 15]])"
      ]
     },
     "execution_count": 128,
     "metadata": {},
     "output_type": "execute_result"
    }
   ],
   "source": [
    "l\n"
   ]
  },
  {
   "cell_type": "code",
   "execution_count": 122,
   "id": "688e1031",
   "metadata": {},
   "outputs": [
    {
     "ename": "TypeError",
     "evalue": "'tuple' object is not callable",
     "output_type": "error",
     "traceback": [
      "\u001b[1;31m---------------------------------------------------------------------------\u001b[0m",
      "\u001b[1;31mTypeError\u001b[0m                                 Traceback (most recent call last)",
      "Cell \u001b[1;32mIn[122], line 1\u001b[0m\n\u001b[1;32m----> 1\u001b[0m \u001b[43ml\u001b[49m\u001b[38;5;241;43m.\u001b[39;49m\u001b[43mshape\u001b[49m\u001b[43m(\u001b[49m\u001b[38;5;241;43m4\u001b[39;49m\u001b[43m,\u001b[49m\u001b[38;5;241;43m4\u001b[39;49m\u001b[43m)\u001b[49m\n",
      "\u001b[1;31mTypeError\u001b[0m: 'tuple' object is not callable"
     ]
    }
   ],
   "source": [
    "l.shape(4,4)"
   ]
  },
  {
   "cell_type": "code",
   "execution_count": 125,
   "id": "8b8a75f3",
   "metadata": {},
   "outputs": [],
   "source": [
    "np.hsplit?"
   ]
  },
  {
   "cell_type": "code",
   "execution_count": 126,
   "id": "e294fc26",
   "metadata": {},
   "outputs": [
    {
     "ename": "ValueError",
     "evalue": "cannot reshape array of size 1 into shape (4,)",
     "output_type": "error",
     "traceback": [
      "\u001b[1;31m---------------------------------------------------------------------------\u001b[0m",
      "\u001b[1;31mValueError\u001b[0m                                Traceback (most recent call last)",
      "Cell \u001b[1;32mIn[126], line 1\u001b[0m\n\u001b[1;32m----> 1\u001b[0m l \u001b[38;5;241m=\u001b[39m \u001b[43mnp\u001b[49m\u001b[38;5;241;43m.\u001b[39;49m\u001b[43mreshape\u001b[49m\u001b[43m(\u001b[49m\u001b[38;5;241;43m4\u001b[39;49m\u001b[43m,\u001b[49m\u001b[38;5;241;43m4\u001b[39;49m\u001b[43m)\u001b[49m\n",
      "File \u001b[1;32m~\\AppData\\Local\\Programs\\Python\\Python311\\Lib\\site-packages\\numpy\\core\\fromnumeric.py:285\u001b[0m, in \u001b[0;36mreshape\u001b[1;34m(a, newshape, order)\u001b[0m\n\u001b[0;32m    200\u001b[0m \u001b[38;5;129m@array_function_dispatch\u001b[39m(_reshape_dispatcher)\n\u001b[0;32m    201\u001b[0m \u001b[38;5;28;01mdef\u001b[39;00m \u001b[38;5;21mreshape\u001b[39m(a, newshape, order\u001b[38;5;241m=\u001b[39m\u001b[38;5;124m'\u001b[39m\u001b[38;5;124mC\u001b[39m\u001b[38;5;124m'\u001b[39m):\n\u001b[0;32m    202\u001b[0m \u001b[38;5;250m    \u001b[39m\u001b[38;5;124;03m\"\"\"\u001b[39;00m\n\u001b[0;32m    203\u001b[0m \u001b[38;5;124;03m    Gives a new shape to an array without changing its data.\u001b[39;00m\n\u001b[0;32m    204\u001b[0m \n\u001b[1;32m   (...)\u001b[0m\n\u001b[0;32m    283\u001b[0m \u001b[38;5;124;03m           [5, 6]])\u001b[39;00m\n\u001b[0;32m    284\u001b[0m \u001b[38;5;124;03m    \"\"\"\u001b[39;00m\n\u001b[1;32m--> 285\u001b[0m     \u001b[38;5;28;01mreturn\u001b[39;00m \u001b[43m_wrapfunc\u001b[49m\u001b[43m(\u001b[49m\u001b[43ma\u001b[49m\u001b[43m,\u001b[49m\u001b[43m \u001b[49m\u001b[38;5;124;43m'\u001b[39;49m\u001b[38;5;124;43mreshape\u001b[39;49m\u001b[38;5;124;43m'\u001b[39;49m\u001b[43m,\u001b[49m\u001b[43m \u001b[49m\u001b[43mnewshape\u001b[49m\u001b[43m,\u001b[49m\u001b[43m \u001b[49m\u001b[43morder\u001b[49m\u001b[38;5;241;43m=\u001b[39;49m\u001b[43morder\u001b[49m\u001b[43m)\u001b[49m\n",
      "File \u001b[1;32m~\\AppData\\Local\\Programs\\Python\\Python311\\Lib\\site-packages\\numpy\\core\\fromnumeric.py:56\u001b[0m, in \u001b[0;36m_wrapfunc\u001b[1;34m(obj, method, *args, **kwds)\u001b[0m\n\u001b[0;32m     54\u001b[0m bound \u001b[38;5;241m=\u001b[39m \u001b[38;5;28mgetattr\u001b[39m(obj, method, \u001b[38;5;28;01mNone\u001b[39;00m)\n\u001b[0;32m     55\u001b[0m \u001b[38;5;28;01mif\u001b[39;00m bound \u001b[38;5;129;01mis\u001b[39;00m \u001b[38;5;28;01mNone\u001b[39;00m:\n\u001b[1;32m---> 56\u001b[0m     \u001b[38;5;28;01mreturn\u001b[39;00m \u001b[43m_wrapit\u001b[49m\u001b[43m(\u001b[49m\u001b[43mobj\u001b[49m\u001b[43m,\u001b[49m\u001b[43m \u001b[49m\u001b[43mmethod\u001b[49m\u001b[43m,\u001b[49m\u001b[43m \u001b[49m\u001b[38;5;241;43m*\u001b[39;49m\u001b[43margs\u001b[49m\u001b[43m,\u001b[49m\u001b[43m \u001b[49m\u001b[38;5;241;43m*\u001b[39;49m\u001b[38;5;241;43m*\u001b[39;49m\u001b[43mkwds\u001b[49m\u001b[43m)\u001b[49m\n\u001b[0;32m     58\u001b[0m \u001b[38;5;28;01mtry\u001b[39;00m:\n\u001b[0;32m     59\u001b[0m     \u001b[38;5;28;01mreturn\u001b[39;00m bound(\u001b[38;5;241m*\u001b[39margs, \u001b[38;5;241m*\u001b[39m\u001b[38;5;241m*\u001b[39mkwds)\n",
      "File \u001b[1;32m~\\AppData\\Local\\Programs\\Python\\Python311\\Lib\\site-packages\\numpy\\core\\fromnumeric.py:45\u001b[0m, in \u001b[0;36m_wrapit\u001b[1;34m(obj, method, *args, **kwds)\u001b[0m\n\u001b[0;32m     43\u001b[0m \u001b[38;5;28;01mexcept\u001b[39;00m \u001b[38;5;167;01mAttributeError\u001b[39;00m:\n\u001b[0;32m     44\u001b[0m     wrap \u001b[38;5;241m=\u001b[39m \u001b[38;5;28;01mNone\u001b[39;00m\n\u001b[1;32m---> 45\u001b[0m result \u001b[38;5;241m=\u001b[39m \u001b[38;5;28;43mgetattr\u001b[39;49m\u001b[43m(\u001b[49m\u001b[43masarray\u001b[49m\u001b[43m(\u001b[49m\u001b[43mobj\u001b[49m\u001b[43m)\u001b[49m\u001b[43m,\u001b[49m\u001b[43m \u001b[49m\u001b[43mmethod\u001b[49m\u001b[43m)\u001b[49m\u001b[43m(\u001b[49m\u001b[38;5;241;43m*\u001b[39;49m\u001b[43margs\u001b[49m\u001b[43m,\u001b[49m\u001b[43m \u001b[49m\u001b[38;5;241;43m*\u001b[39;49m\u001b[38;5;241;43m*\u001b[39;49m\u001b[43mkwds\u001b[49m\u001b[43m)\u001b[49m\n\u001b[0;32m     46\u001b[0m \u001b[38;5;28;01mif\u001b[39;00m wrap:\n\u001b[0;32m     47\u001b[0m     \u001b[38;5;28;01mif\u001b[39;00m \u001b[38;5;129;01mnot\u001b[39;00m \u001b[38;5;28misinstance\u001b[39m(result, mu\u001b[38;5;241m.\u001b[39mndarray):\n",
      "\u001b[1;31mValueError\u001b[0m: cannot reshape array of size 1 into shape (4,)"
     ]
    }
   ],
   "source": [
    "l = np.reshape(4,4)"
   ]
  },
  {
   "cell_type": "code",
   "execution_count": 131,
   "id": "50bbd711",
   "metadata": {},
   "outputs": [
    {
     "data": {
      "text/plain": [
       "array([ 1.        ,  3.11111111,  5.22222222,  7.33333333,  9.44444444,\n",
       "       11.55555556, 13.66666667, 15.77777778, 17.88888889, 20.        ])"
      ]
     },
     "execution_count": 131,
     "metadata": {},
     "output_type": "execute_result"
    }
   ],
   "source": [
    "a = np.linspace(1,20,10)\n",
    "a"
   ]
  },
  {
   "cell_type": "code",
   "execution_count": 132,
   "id": "dc50695e",
   "metadata": {},
   "outputs": [
    {
     "data": {
      "text/plain": [
       "array([ 1.        ,  5.22222222,  9.44444444, 13.66666667, 17.88888889])"
      ]
     },
     "execution_count": 132,
     "metadata": {},
     "output_type": "execute_result"
    }
   ],
   "source": [
    "a[0:10:2]"
   ]
  },
  {
   "cell_type": "code",
   "execution_count": 133,
   "id": "93238d3f",
   "metadata": {},
   "outputs": [
    {
     "data": {
      "text/plain": [
       "array([ 1.        ,  7.33333333, 13.66666667, 20.        ])"
      ]
     },
     "execution_count": 133,
     "metadata": {},
     "output_type": "execute_result"
    }
   ],
   "source": [
    "a[0::3]"
   ]
  },
  {
   "cell_type": "code",
   "execution_count": 134,
   "id": "b28b2eb5",
   "metadata": {},
   "outputs": [
    {
     "data": {
      "text/plain": [
       "array([7.33333333, 3.11111111])"
      ]
     },
     "execution_count": 134,
     "metadata": {},
     "output_type": "execute_result"
    }
   ],
   "source": [
    "a[3::-2]"
   ]
  },
  {
   "cell_type": "code",
   "execution_count": 145,
   "id": "5c2b0136",
   "metadata": {},
   "outputs": [
    {
     "data": {
      "text/plain": [
       "array([[ 1.        ,  3.11111111,  5.22222222,  7.33333333,  9.44444444],\n",
       "       [11.55555556, 13.66666667, 15.77777778, 17.88888889, 20.        ]])"
      ]
     },
     "execution_count": 145,
     "metadata": {},
     "output_type": "execute_result"
    }
   ],
   "source": [
    "a = np.linspace(1,20,10).reshape(2,5)\n",
    "a"
   ]
  },
  {
   "cell_type": "code",
   "execution_count": 140,
   "id": "189747e7",
   "metadata": {},
   "outputs": [
    {
     "data": {
      "text/plain": [
       "1.0"
      ]
     },
     "execution_count": 140,
     "metadata": {},
     "output_type": "execute_result"
    }
   ],
   "source": [
    "a[0,0]"
   ]
  },
  {
   "cell_type": "code",
   "execution_count": 141,
   "id": "f266f74b",
   "metadata": {},
   "outputs": [
    {
     "data": {
      "text/plain": [
       "array([], shape=(0, 5), dtype=float64)"
      ]
     },
     "execution_count": 141,
     "metadata": {},
     "output_type": "execute_result"
    }
   ],
   "source": [
    "a[:0]"
   ]
  },
  {
   "cell_type": "code",
   "execution_count": 142,
   "id": "a02ac16c",
   "metadata": {},
   "outputs": [
    {
     "data": {
      "text/plain": [
       "array([ 3.11111111, 13.66666667])"
      ]
     },
     "execution_count": 142,
     "metadata": {},
     "output_type": "execute_result"
    }
   ],
   "source": [
    "a[:,1]"
   ]
  },
  {
   "cell_type": "code",
   "execution_count": 149,
   "id": "f2963e25",
   "metadata": {},
   "outputs": [
    {
     "data": {
      "text/plain": [
       "array([[ 0,  1,  2,  3,  4],\n",
       "       [ 5,  6,  7,  8,  9],\n",
       "       [10, 11, 12, 13, 14],\n",
       "       [15, 16, 17, 18, 19]])"
      ]
     },
     "execution_count": 149,
     "metadata": {},
     "output_type": "execute_result"
    }
   ],
   "source": [
    "a = np.arange(0,20,1).reshape(4,5)\n",
    "a"
   ]
  },
  {
   "cell_type": "code",
   "execution_count": 150,
   "id": "9cbb6e9e",
   "metadata": {},
   "outputs": [],
   "source": [
    "b = a[::, np.newaxis]"
   ]
  },
  {
   "cell_type": "code",
   "execution_count": 151,
   "id": "470ceb51",
   "metadata": {},
   "outputs": [
    {
     "data": {
      "text/plain": [
       "array([[[ 0,  1,  2,  3,  4]],\n",
       "\n",
       "       [[ 5,  6,  7,  8,  9]],\n",
       "\n",
       "       [[10, 11, 12, 13, 14]],\n",
       "\n",
       "       [[15, 16, 17, 18, 19]]])"
      ]
     },
     "execution_count": 151,
     "metadata": {},
     "output_type": "execute_result"
    }
   ],
   "source": [
    "b"
   ]
  },
  {
   "cell_type": "code",
   "execution_count": 152,
   "id": "efcfe35c",
   "metadata": {},
   "outputs": [
    {
     "data": {
      "text/plain": [
       "(4, 1, 5)"
      ]
     },
     "execution_count": 152,
     "metadata": {},
     "output_type": "execute_result"
    }
   ],
   "source": [
    "b.shape"
   ]
  },
  {
   "cell_type": "code",
   "execution_count": null,
   "id": "9dc5c2e4",
   "metadata": {},
   "outputs": [],
   "source": []
  }
 ],
 "metadata": {
  "kernelspec": {
   "display_name": "Python 3 (ipykernel)",
   "language": "python",
   "name": "python3"
  },
  "language_info": {
   "codemirror_mode": {
    "name": "ipython",
    "version": 3
   },
   "file_extension": ".py",
   "mimetype": "text/x-python",
   "name": "python",
   "nbconvert_exporter": "python",
   "pygments_lexer": "ipython3",
   "version": "3.11.1"
  }
 },
 "nbformat": 4,
 "nbformat_minor": 5
}
